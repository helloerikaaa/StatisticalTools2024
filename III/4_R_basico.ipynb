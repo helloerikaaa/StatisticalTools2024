{
 "cells": [
  {
   "cell_type": "code",
   "execution_count": 4,
   "id": "44b01ad7-4fab-4630-bc69-bfc6533a8140",
   "metadata": {
    "vscode": {
     "languageId": "r"
    }
   },
   "outputs": [],
   "source": [
    "# Asignación de variables\n",
    "x <- 10  # Asigna el valor 10 a la variable x\n",
    "y <- 5   # Asigna el valor 5 a la variable y"
   ]
  },
  {
   "cell_type": "code",
   "execution_count": 5,
   "id": "58b6d52e-ff41-43e1-a77f-5696cb24f215",
   "metadata": {
    "vscode": {
     "languageId": "r"
    }
   },
   "outputs": [],
   "source": [
    "# Operaciones aritméticas\n",
    "suma <- x + y   # Suma de x e y\n",
    "resta <- x - y  # Resta de x y y\n",
    "multiplicacion <- x * y  # Multiplicación de x y y\n",
    "division <- x / y   # División de x entre y\n",
    "modulo <- x %% y    # Módulo de x entre y"
   ]
  },
  {
   "cell_type": "code",
   "execution_count": 6,
   "id": "ed1df9f8-c641-4dcc-99a6-991a3840bed6",
   "metadata": {
    "vscode": {
     "languageId": "r"
    }
   },
   "outputs": [
    {
     "name": "stdout",
     "output_type": "stream",
     "text": [
      "[1] 15\n",
      "[1] 5\n",
      "[1] 50\n",
      "[1] 2\n",
      "[1] 0\n"
     ]
    }
   ],
   "source": [
    "# Impresión de resultados\n",
    "print(suma)   # Imprime la suma\n",
    "print(resta)  # Imprime la resta\n",
    "print(multiplicacion)  # Imprime la multiplicación\n",
    "print(division)   # Imprime la división\n",
    "print(modulo)    # Imprime el módulo"
   ]
  },
  {
   "cell_type": "code",
   "execution_count": 7,
   "id": "ec9108c5-b5ce-45e4-9d26-bd521f7ed6dd",
   "metadata": {
    "vscode": {
     "languageId": "r"
    }
   },
   "outputs": [],
   "source": [
    "# Enteros y números de punto flotante\n",
    "entero <- 10       # Tipo de dato entero\n",
    "flotante <- 3.14   # Tipo de dato de punto flotante\n",
    "\n",
    "# Cadena de texto\n",
    "texto <- \"Hola, mundo!\"  \n",
    "\n",
    "# Lógico\n",
    "logico <- TRUE   # TRUE o FALSE"
   ]
  },
  {
   "cell_type": "code",
   "execution_count": 8,
   "id": "afa98fb8-5c5c-486c-ac52-c561ecec4b9d",
   "metadata": {
    "vscode": {
     "languageId": "r"
    }
   },
   "outputs": [],
   "source": [
    "# Vectores\n",
    "# Los vectores son colecciones ordenadas de elementos del mismo tipo.\n",
    "vector <- c(1, 2, 3, 4, 5)   # Creación de un vector de números\n",
    "\n",
    "# Matrices\n",
    "# Las matrices son vectores bidimensionales.\n",
    "matriz <- matrix(c(1, 2, 3, 4), nrow = 2, ncol = 2)   # Creación de una matriz 2x2\n",
    "\n",
    "# Listas\n",
    "# Las listas pueden contener elementos de diferentes tipos.\n",
    "lista <- list(entero, flotante, texto, logico)   # Creación de una lista\n",
    "\n",
    "# Data frames\n",
    "# Los data frames son estructuras de datos similares a tablas.\n",
    "data_frame <- data.frame(Nombre = c(\"Juan\", \"María\", \"Pedro\"),\n",
    "                          Edad = c(25, 30, 28),\n",
    "                          Sexo = c(\"M\", \"F\", \"M\"))   # Creación de un data frame"
   ]
  },
  {
   "cell_type": "code",
   "execution_count": 9,
   "id": "d8d8bb7d-adc0-4b91-b8b6-d82e79865441",
   "metadata": {
    "vscode": {
     "languageId": "r"
    }
   },
   "outputs": [
    {
     "name": "stdout",
     "output_type": "stream",
     "text": [
      "[1] 30\n"
     ]
    }
   ],
   "source": [
    "# Parte 3: Funciones básicas\n",
    "\n",
    "# Funciones predefinidas\n",
    "# R tiene muchas funciones predefinidas para realizar diversas operaciones.\n",
    "# Por ejemplo, la función sum() suma los elementos de un vector.\n",
    "resultado_suma <- sum(vector)   # Suma los elementos del vector\n",
    "\n",
    "# Creación de funciones\n",
    "# También puedes crear tus propias funciones en R.\n",
    "# Por ejemplo, esta función suma dos números.\n",
    "suma_dos_numeros <- function(a, b) {\n",
    "  resultado <- a + b\n",
    "  return(resultado)\n",
    "}\n",
    "\n",
    "# Llamada a la función suma_dos_numeros\n",
    "resultado <- suma_dos_numeros(10, 20)   # Llama a la función y almacena el resultado\n",
    "print(resultado)   # Imprime el resultado de la función"
   ]
  },
  {
   "cell_type": "code",
   "execution_count": 11,
   "id": "b8af504b-5769-4187-b8be-3c0218fa445f",
   "metadata": {
    "vscode": {
     "languageId": "r"
    }
   },
   "outputs": [
    {
     "name": "stdout",
     "output_type": "stream",
     "text": [
      "'data.frame':\t5000 obs. of  7 variables:\n",
      " $ Avg..Area.Income            : num  79545 79249 61287 63345 59982 ...\n",
      " $ Avg..Area.House.Age         : num  5.68 6 5.87 7.19 5.04 ...\n",
      " $ Avg..Area.Number.of.Rooms   : num  7.01 6.73 8.51 5.59 7.84 ...\n",
      " $ Avg..Area.Number.of.Bedrooms: num  4.09 3.09 5.13 3.26 4.23 4.04 3.41 2.42 2.3 6.1 ...\n",
      " $ Area.Population             : num  23087 40173 36882 34310 26354 ...\n",
      " $ Price                       : num  1059034 1505891 1058988 1260617 630943 ...\n",
      " $ Address                     : chr  \"208 Michael Ferry Apt. 674\\nLaurabury, NE 37010-5101\" \"188 Johnson Views Suite 079\\nLake Kathleen, CA 48958\" \"9127 Elizabeth Stravenue\\nDanieltown, WI 06482-3489\" \"USS Barnett\\nFPO AP 44820\" ...\n"
     ]
    },
    {
     "data": {
      "text/html": [
       "<table class=\"dataframe\">\n",
       "<caption>A data.frame: 6 × 7</caption>\n",
       "<thead>\n",
       "\t<tr><th></th><th scope=col>Avg..Area.Income</th><th scope=col>Avg..Area.House.Age</th><th scope=col>Avg..Area.Number.of.Rooms</th><th scope=col>Avg..Area.Number.of.Bedrooms</th><th scope=col>Area.Population</th><th scope=col>Price</th><th scope=col>Address</th></tr>\n",
       "\t<tr><th></th><th scope=col>&lt;dbl&gt;</th><th scope=col>&lt;dbl&gt;</th><th scope=col>&lt;dbl&gt;</th><th scope=col>&lt;dbl&gt;</th><th scope=col>&lt;dbl&gt;</th><th scope=col>&lt;dbl&gt;</th><th scope=col>&lt;chr&gt;</th></tr>\n",
       "</thead>\n",
       "<tbody>\n",
       "\t<tr><th scope=row>1</th><td>79545.46</td><td>5.682861</td><td>7.009188</td><td>4.09</td><td>23086.80</td><td>1059033.6</td><td>208 Michael Ferry Apt. 674\n",
       "Laurabury, NE 37010-5101</td></tr>\n",
       "\t<tr><th scope=row>2</th><td>79248.64</td><td>6.002900</td><td>6.730821</td><td>3.09</td><td>40173.07</td><td>1505890.9</td><td>188 Johnson Views Suite 079\n",
       "Lake Kathleen, CA 48958</td></tr>\n",
       "\t<tr><th scope=row>3</th><td>61287.07</td><td>5.865890</td><td>8.512727</td><td>5.13</td><td>36882.16</td><td>1058988.0</td><td>9127 Elizabeth Stravenue\n",
       "Danieltown, WI 06482-3489 </td></tr>\n",
       "\t<tr><th scope=row>4</th><td>63345.24</td><td>7.188236</td><td>5.586729</td><td>3.26</td><td>34310.24</td><td>1260616.8</td><td>USS Barnett\n",
       "FPO AP 44820                           </td></tr>\n",
       "\t<tr><th scope=row>5</th><td>59982.20</td><td>5.040555</td><td>7.839388</td><td>4.23</td><td>26354.11</td><td> 630943.5</td><td>USNS Raymond\n",
       "FPO AE 09386                          </td></tr>\n",
       "\t<tr><th scope=row>6</th><td>80175.75</td><td>4.988408</td><td>6.104512</td><td>4.04</td><td>26748.43</td><td>1068138.1</td><td>06039 Jennifer Islands Apt. 443\n",
       "Tracyport, KS 16077</td></tr>\n",
       "</tbody>\n",
       "</table>\n"
      ],
      "text/latex": [
       "A data.frame: 6 × 7\n",
       "\\begin{tabular}{r|lllllll}\n",
       "  & Avg..Area.Income & Avg..Area.House.Age & Avg..Area.Number.of.Rooms & Avg..Area.Number.of.Bedrooms & Area.Population & Price & Address\\\\\n",
       "  & <dbl> & <dbl> & <dbl> & <dbl> & <dbl> & <dbl> & <chr>\\\\\n",
       "\\hline\n",
       "\t1 & 79545.46 & 5.682861 & 7.009188 & 4.09 & 23086.80 & 1059033.6 & 208 Michael Ferry Apt. 674\n",
       "Laurabury, NE 37010-5101\\\\\n",
       "\t2 & 79248.64 & 6.002900 & 6.730821 & 3.09 & 40173.07 & 1505890.9 & 188 Johnson Views Suite 079\n",
       "Lake Kathleen, CA 48958\\\\\n",
       "\t3 & 61287.07 & 5.865890 & 8.512727 & 5.13 & 36882.16 & 1058988.0 & 9127 Elizabeth Stravenue\n",
       "Danieltown, WI 06482-3489 \\\\\n",
       "\t4 & 63345.24 & 7.188236 & 5.586729 & 3.26 & 34310.24 & 1260616.8 & USS Barnett\n",
       "FPO AP 44820                           \\\\\n",
       "\t5 & 59982.20 & 5.040555 & 7.839388 & 4.23 & 26354.11 &  630943.5 & USNS Raymond\n",
       "FPO AE 09386                          \\\\\n",
       "\t6 & 80175.75 & 4.988408 & 6.104512 & 4.04 & 26748.43 & 1068138.1 & 06039 Jennifer Islands Apt. 443\n",
       "Tracyport, KS 16077\\\\\n",
       "\\end{tabular}\n"
      ],
      "text/markdown": [
       "\n",
       "A data.frame: 6 × 7\n",
       "\n",
       "| <!--/--> | Avg..Area.Income &lt;dbl&gt; | Avg..Area.House.Age &lt;dbl&gt; | Avg..Area.Number.of.Rooms &lt;dbl&gt; | Avg..Area.Number.of.Bedrooms &lt;dbl&gt; | Area.Population &lt;dbl&gt; | Price &lt;dbl&gt; | Address &lt;chr&gt; |\n",
       "|---|---|---|---|---|---|---|---|\n",
       "| 1 | 79545.46 | 5.682861 | 7.009188 | 4.09 | 23086.80 | 1059033.6 | 208 Michael Ferry Apt. 674\n",
       "Laurabury, NE 37010-5101 |\n",
       "| 2 | 79248.64 | 6.002900 | 6.730821 | 3.09 | 40173.07 | 1505890.9 | 188 Johnson Views Suite 079\n",
       "Lake Kathleen, CA 48958 |\n",
       "| 3 | 61287.07 | 5.865890 | 8.512727 | 5.13 | 36882.16 | 1058988.0 | 9127 Elizabeth Stravenue\n",
       "Danieltown, WI 06482-3489  |\n",
       "| 4 | 63345.24 | 7.188236 | 5.586729 | 3.26 | 34310.24 | 1260616.8 | USS Barnett\n",
       "FPO AP 44820                            |\n",
       "| 5 | 59982.20 | 5.040555 | 7.839388 | 4.23 | 26354.11 |  630943.5 | USNS Raymond\n",
       "FPO AE 09386                           |\n",
       "| 6 | 80175.75 | 4.988408 | 6.104512 | 4.04 | 26748.43 | 1068138.1 | 06039 Jennifer Islands Apt. 443\n",
       "Tracyport, KS 16077 |\n",
       "\n"
      ],
      "text/plain": [
       "  Avg..Area.Income Avg..Area.House.Age Avg..Area.Number.of.Rooms\n",
       "1 79545.46         5.682861            7.009188                 \n",
       "2 79248.64         6.002900            6.730821                 \n",
       "3 61287.07         5.865890            8.512727                 \n",
       "4 63345.24         7.188236            5.586729                 \n",
       "5 59982.20         5.040555            7.839388                 \n",
       "6 80175.75         4.988408            6.104512                 \n",
       "  Avg..Area.Number.of.Bedrooms Area.Population Price    \n",
       "1 4.09                         23086.80        1059033.6\n",
       "2 3.09                         40173.07        1505890.9\n",
       "3 5.13                         36882.16        1058988.0\n",
       "4 3.26                         34310.24        1260616.8\n",
       "5 4.23                         26354.11         630943.5\n",
       "6 4.04                         26748.43        1068138.1\n",
       "  Address                                             \n",
       "1 208 Michael Ferry Apt. 674\\nLaurabury, NE 37010-5101\n",
       "2 188 Johnson Views Suite 079\\nLake Kathleen, CA 48958\n",
       "3 9127 Elizabeth Stravenue\\nDanieltown, WI 06482-3489 \n",
       "4 USS Barnett\\nFPO AP 44820                           \n",
       "5 USNS Raymond\\nFPO AE 09386                          \n",
       "6 06039 Jennifer Islands Apt. 443\\nTracyport, KS 16077"
      ]
     },
     "metadata": {},
     "output_type": "display_data"
    }
   ],
   "source": [
    "# Parte 1: Lectura de un archivo CSV\n",
    "\n",
    "# Lee el archivo CSV \"datos.csv\" y almacena los datos en un data frame llamado \"datos\"\n",
    "datos <- read.csv(\"data/houses.csv\")\n",
    "\n",
    "# Muestra la estructura y los primeros elementos del data frame \"datos\"\n",
    "str(datos)\n",
    "head(datos)"
   ]
  },
  {
   "cell_type": "code",
   "execution_count": 13,
   "id": "1f038489-958c-4f00-ad66-23385a6f03aa",
   "metadata": {
    "vscode": {
     "languageId": "r"
    }
   },
   "outputs": [
    {
     "data": {
      "text/plain": [
       " Avg..Area.Income Avg..Area.House.Age Avg..Area.Number.of.Rooms\n",
       " Min.   : 17797   Min.   :2.644       Min.   : 3.236           \n",
       " 1st Qu.: 61481   1st Qu.:5.322       1st Qu.: 6.299           \n",
       " Median : 68804   Median :5.970       Median : 7.003           \n",
       " Mean   : 68583   Mean   :5.977       Mean   : 6.988           \n",
       " 3rd Qu.: 75783   3rd Qu.:6.651       3rd Qu.: 7.666           \n",
       " Max.   :107702   Max.   :9.519       Max.   :10.760           \n",
       " Avg..Area.Number.of.Bedrooms Area.Population       Price        \n",
       " Min.   :2.000                Min.   :  172.6   Min.   :  15939  \n",
       " 1st Qu.:3.140                1st Qu.:29403.9   1st Qu.: 997577  \n",
       " Median :4.050                Median :36199.4   Median :1232669  \n",
       " Mean   :3.981                Mean   :36163.5   Mean   :1232073  \n",
       " 3rd Qu.:4.490                3rd Qu.:42861.3   3rd Qu.:1471210  \n",
       " Max.   :6.500                Max.   :69621.7   Max.   :2469066  \n",
       "   Address         \n",
       " Length:5000       \n",
       " Class :character  \n",
       " Mode  :character  \n",
       "                   \n",
       "                   \n",
       "                   "
      ]
     },
     "metadata": {},
     "output_type": "display_data"
    }
   ],
   "source": [
    "# Resumen estadístico básico\n",
    "summary(datos)"
   ]
  },
  {
   "cell_type": "code",
   "execution_count": 14,
   "id": "249da5de-5e1b-47e6-85b9-3c5df69b48d2",
   "metadata": {
    "vscode": {
     "languageId": "r"
    }
   },
   "outputs": [
    {
     "name": "stdout",
     "output_type": "stream",
     "text": [
      "[1] \"Media del precio de las casas: 1232072.65414236\"\n",
      "[1] \"Mediana del precio de las casas: 1232669.37796579\"\n",
      "[1] \"Desviación estándar del precio de las casas: 353117.626581061\"\n"
     ]
    }
   ],
   "source": [
    "# Calcular la media del precio de las casas\n",
    "mean_price <- mean(datos$Price)\n",
    "print(paste(\"Media del precio de las casas:\", mean_price))\n",
    "\n",
    "# Calcular la mediana del precio de las casas\n",
    "median_price <- median(datos$Price)\n",
    "print(paste(\"Mediana del precio de las casas:\", median_price))\n",
    "\n",
    "# Calcular la desviación estándar del precio de las casas\n",
    "sd_price <- sd(datos$Price)\n",
    "print(paste(\"Desviación estándar del precio de las casas:\", sd_price))"
   ]
  },
  {
   "cell_type": "code",
   "execution_count": 16,
   "id": "ba9c9eb8-1186-4836-b50f-a47b8f409bc7",
   "metadata": {
    "vscode": {
     "languageId": "r"
    }
   },
   "outputs": [
    {
     "data": {
      "image/png": "[encoded data removed]",
      "text/plain": [
       "Plot with title “Histograma de precios de las casas”"
      ]
     },
     "metadata": {
      "image/png": {
       "height": 420,
       "width": 420
      }
     },
     "output_type": "display_data"
    }
   ],
   "source": [
    "# Visualización básica del precio de las casas\n",
    "hist(datos$Price, main = \"Histograma de precios de las casas\", xlab = \"Precio\", col = \"blue\", border = \"black\")"
   ]
  }
 ],
 "metadata": {
  "kernelspec": {
   "display_name": "R",
   "language": "R",
   "name": "ir"
  },
  "language_info": {
   "codemirror_mode": "r",
   "file_extension": ".r",
   "mimetype": "text/x-r-source",
   "name": "R",
   "pygments_lexer": "r",
   "version": "4.4.0"
  }
 },
 "nbformat": 4,
 "nbformat_minor": 5
}

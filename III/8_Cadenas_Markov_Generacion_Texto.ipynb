{
 "cells": [
  {
   "cell_type": "code",
   "execution_count": 48,
   "id": "a21b8db8-1edf-4064-885d-d394fdce8e9d",
   "metadata": {},
   "outputs": [],
   "source": [
    "import numpy as np\n",
    "import random"
   ]
  },
  {
   "cell_type": "code",
   "execution_count": 49,
   "id": "71251019-4aff-400c-b172-deb2947df1a7",
   "metadata": {},
   "outputs": [],
   "source": [
    "def obtener_transiciones(texto):\n",
    "    # Dividir palabras en una lista\n",
    "    palabras = texto.split()\n",
    "    transiciones = {}\n",
    "\n",
    "    for palabra in range(len(palabras) - 1):\n",
    "        # Iterar todas las palabras excepto la última\n",
    "        if palabras[palabra] not in transiciones:\n",
    "            # Crear una entrada con una lista vacía\n",
    "            transiciones[palabras[palabra]] = []\n",
    "        # Añadir la palabra siguiente a las transiciones\n",
    "        transiciones[palabras[palabra]].append(palabras[palabra + 1])\n",
    "    # Regresar el diccionario de transiciones\n",
    "    return transiciones"
   ]
  },
  {
   "cell_type": "code",
   "execution_count": 50,
   "id": "2e521cd0-0359-4461-a9b2-13b6bec8617f",
   "metadata": {},
   "outputs": [],
   "source": [
    "def generar_texto(transiciones, inicio, longitud=50):\n",
    "    # Definir la palabra inicial del texto\n",
    "    palabra_actual = inicio\n",
    "    resultado = [palabra_actual]\n",
    "\n",
    "    for _ in range(longitud - 1):\n",
    "        if palabra_actual in transiciones:\n",
    "            palabra_actual = random.choice(transiciones[palabra_actual])\n",
    "            resultado.append(palabra_actual)\n",
    "        else:\n",
    "            break\n",
    "    # Regresa los elementos de una lista como una frase de texto\n",
    "    return ' '.join(resultado)"
   ]
  },
  {
   "cell_type": "code",
   "execution_count": 51,
   "id": "91e641e5-8a37-41a1-bbce-de48f71def9d",
   "metadata": {},
   "outputs": [],
   "source": [
    "def obtener_matriz_transiciones(texto):\n",
    "    # Dividir texto en palabras\n",
    "    palabras = texto.split()\n",
    "    # Lista de palabras únicas\n",
    "    palabras_unicas = list(set(palabras))\n",
    "    # Obtener la longitud de palabras únicas\n",
    "    n = len(palabras_unicas)\n",
    "\n",
    "    # Crear un diccionario para mapear palabras a índices\n",
    "    palabra_a_indice = {\n",
    "        palabra: idx for idx, palabra in enumerate(palabras_unicas)\n",
    "    }\n",
    "    # Crear un diccionario inverso para mapear índices a palabras\n",
    "    indice_a_palabra = {\n",
    "        idx: palabra for palabra, idx in palabra_a_indice.items()\n",
    "    }\n",
    "\n",
    "    # Inicializar la matriz de transiciones\n",
    "    matriz_transiciones = np.zeros((n, n))\n",
    "\n",
    "    # Rellenar la matriz de transiciones con las probabilidades\n",
    "    for i in range(len(palabras) - 1):\n",
    "        palabra_actual = palabras[i]\n",
    "        palabra_siguiente = palabras[i+1]\n",
    "        matriz_transiciones[palabra_a_indice[palabra_actual]][palabra_a_indice[palabra_siguiente]] += 1\n",
    "\n",
    "    # Convertir el conteo a probabilidades\n",
    "    for i in range(n):\n",
    "        # Sumar el conteo por fila\n",
    "        total = np.sum(matriz_transiciones[i])\n",
    "        # Revisar si hay al menos una transición\n",
    "        if total > 0:\n",
    "            matriz_transiciones[i] = matriz_transiciones[i] / total\n",
    "\n",
    "    return matriz_transiciones, palabra_a_indice, indice_a_palabra"
   ]
  },
  {
   "cell_type": "code",
   "execution_count": 52,
   "id": "059c3e9a-6014-4676-9ab4-04cf2156c8bf",
   "metadata": {},
   "outputs": [],
   "source": [
    "texto = \"Este es un texto de ejemplo para generar otro texto con cadenas de Markov\""
   ]
  },
  {
   "cell_type": "code",
   "execution_count": 53,
   "id": "b7dd02b4-86f0-4226-bedb-c13c6b4e3ff0",
   "metadata": {},
   "outputs": [],
   "source": [
    "transiciones = obtener_transiciones(texto)"
   ]
  },
  {
   "cell_type": "code",
   "execution_count": 54,
   "id": "f11f80b6-b2ac-45be-a149-2eb89924f47f",
   "metadata": {},
   "outputs": [
    {
     "data": {
      "text/plain": [
       "{'Este': ['es'],\n",
       " 'es': ['un'],\n",
       " 'un': ['texto'],\n",
       " 'texto': ['de', 'con'],\n",
       " 'de': ['ejemplo', 'Markov'],\n",
       " 'ejemplo': ['para'],\n",
       " 'para': ['generar'],\n",
       " 'generar': ['otro'],\n",
       " 'otro': ['texto'],\n",
       " 'con': ['cadenas'],\n",
       " 'cadenas': ['de']}"
      ]
     },
     "execution_count": 54,
     "metadata": {},
     "output_type": "execute_result"
    }
   ],
   "source": [
    "transiciones"
   ]
  },
  {
   "cell_type": "code",
   "execution_count": 55,
   "id": "7f1d957e-70c9-4352-baac-48cd74840d8b",
   "metadata": {},
   "outputs": [],
   "source": [
    "texto_generado = generar_texto(transiciones, \"Markov\", longitud=20)"
   ]
  },
  {
   "cell_type": "code",
   "execution_count": 56,
   "id": "3536a7b8-15e7-45c0-a9dd-56de49531e06",
   "metadata": {},
   "outputs": [
    {
     "data": {
      "text/plain": [
       "'Markov'"
      ]
     },
     "execution_count": 56,
     "metadata": {},
     "output_type": "execute_result"
    }
   ],
   "source": [
    "texto_generado"
   ]
  },
  {
   "cell_type": "code",
   "execution_count": 57,
   "id": "ad8e7321-d3db-487c-bc63-b0ba638f8290",
   "metadata": {},
   "outputs": [],
   "source": [
    "matriz_transiciones, palabra_a_indice, indice_a_palabra = obtener_matriz_transiciones(texto)"
   ]
  },
  {
   "cell_type": "code",
   "execution_count": 58,
   "id": "42b76087-fe6e-4165-87d9-49aceca01b59",
   "metadata": {},
   "outputs": [
    {
     "data": {
      "text/plain": [
       "array([[0. , 0. , 0. , 0. , 0. , 0. , 0. , 0. , 0. , 1. , 0. , 0. ],\n",
       "       [0. , 0. , 0. , 0. , 0. , 0. , 0. , 0. , 1. , 0. , 0. , 0. ],\n",
       "       [0. , 1. , 0. , 0. , 0. , 0. , 0. , 0. , 0. , 0. , 0. , 0. ],\n",
       "       [0. , 0. , 0. , 0. , 0. , 0. , 0. , 0. , 0. , 0. , 1. , 0. ],\n",
       "       [0. , 0. , 0. , 1. , 0. , 0. , 0. , 0. , 0. , 0. , 0. , 0. ],\n",
       "       [0. , 0. , 0. , 0. , 0. , 0. , 0. , 0. , 0. , 0. , 0. , 0. ],\n",
       "       [0. , 0. , 1. , 0. , 0. , 0. , 0. , 0. , 0. , 0. , 0. , 0. ],\n",
       "       [0. , 0. , 0. , 0. , 0.5, 0. , 0. , 0. , 0. , 0. , 0.5, 0. ],\n",
       "       [0. , 0. , 0. , 0. , 0. , 0. , 0. , 1. , 0. , 0. , 0. , 0. ],\n",
       "       [0. , 0. , 0. , 0. , 0. , 0. , 0. , 1. , 0. , 0. , 0. , 0. ],\n",
       "       [0. , 0. , 0. , 0. , 0. , 0.5, 0.5, 0. , 0. , 0. , 0. , 0. ],\n",
       "       [1. , 0. , 0. , 0. , 0. , 0. , 0. , 0. , 0. , 0. , 0. , 0. ]])"
      ]
     },
     "execution_count": 58,
     "metadata": {},
     "output_type": "execute_result"
    }
   ],
   "source": [
    "matriz_transiciones"
   ]
  },
  {
   "cell_type": "code",
   "execution_count": 59,
   "id": "91e9be15-23d3-439c-bae6-7c5565c08550",
   "metadata": {},
   "outputs": [
    {
     "data": {
      "text/plain": [
       "{0: 'es',\n",
       " 1: 'generar',\n",
       " 2: 'para',\n",
       " 3: 'cadenas',\n",
       " 4: 'con',\n",
       " 5: 'Markov',\n",
       " 6: 'ejemplo',\n",
       " 7: 'texto',\n",
       " 8: 'otro',\n",
       " 9: 'un',\n",
       " 10: 'de',\n",
       " 11: 'Este'}"
      ]
     },
     "execution_count": 59,
     "metadata": {},
     "output_type": "execute_result"
    }
   ],
   "source": [
    "indice_a_palabra"
   ]
  },
  {
   "cell_type": "code",
   "execution_count": 60,
   "id": "d20396b3-d2b7-4749-8d87-fc73cd2941fd",
   "metadata": {},
   "outputs": [
    {
     "data": {
      "text/plain": [
       "{'es': 0,\n",
       " 'generar': 1,\n",
       " 'para': 2,\n",
       " 'cadenas': 3,\n",
       " 'con': 4,\n",
       " 'Markov': 5,\n",
       " 'ejemplo': 6,\n",
       " 'texto': 7,\n",
       " 'otro': 8,\n",
       " 'un': 9,\n",
       " 'de': 10,\n",
       " 'Este': 11}"
      ]
     },
     "execution_count": 60,
     "metadata": {},
     "output_type": "execute_result"
    }
   ],
   "source": [
    "palabra_a_indice"
   ]
  },
  {
   "cell_type": "code",
   "execution_count": null,
   "id": "5f1cd586-b45e-497a-930f-1f9388bcc0e1",
   "metadata": {},
   "outputs": [],
   "source": []
  }
 ],
 "metadata": {
  "kernelspec": {
   "display_name": "Python 3 (ipykernel)",
   "language": "python",
   "name": "python3"
  },
  "language_info": {
   "codemirror_mode": {
    "name": "ipython",
    "version": 3
   },
   "file_extension": ".py",
   "mimetype": "text/x-python",
   "name": "python",
   "nbconvert_exporter": "python",
   "pygments_lexer": "ipython3",
   "version": "3.10.13"
  }
 },
 "nbformat": 4,
 "nbformat_minor": 5
}
